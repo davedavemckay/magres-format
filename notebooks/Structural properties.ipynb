{
 "metadata": {
  "name": "",
  "signature": "sha256:e530d3fc28a477e144feb2f5ba871b854e3adbbd8b5dbd62767efaacf2b82bb2"
 },
 "nbformat": 3,
 "nbformat_minor": 0,
 "worksheets": [
  {
   "cells": [
    {
     "cell_type": "markdown",
     "metadata": {},
     "source": [
      "Calculating structural properties\n",
      "=================================\n",
      "\n",
      "Quite often you want to calculate some geometric, structural properties of a structure or set of structures, for example the mean bond angles between certain species, or the polyhedral strain. This tutorial goes through various ways to easily extract such quantities from `.magres` files.\n",
      "\n",
      "As usual, we start by importing the `MagresAtoms` Python class and reading in a `.magres` file to the `atoms` variable."
     ]
    },
    {
     "cell_type": "code",
     "collapsed": false,
     "input": [
      "from magres.atoms import MagresAtoms"
     ],
     "language": "python",
     "metadata": {},
     "outputs": [],
     "prompt_number": 1
    },
    {
     "cell_type": "code",
     "collapsed": false,
     "input": [
      "atoms = MagresAtoms.load_magres('../samples/T1Si0.magres')"
     ],
     "language": "python",
     "metadata": {},
     "outputs": [],
     "prompt_number": 2
    },
    {
     "cell_type": "markdown",
     "metadata": {},
     "source": [
      "Bond lengths\n",
      "------------"
     ]
    },
    {
     "cell_type": "markdown",
     "metadata": {},
     "source": [
      "We can calculate the distance between two atoms, for example between the Al1 atom and its neighbour, the O1 atom."
     ]
    },
    {
     "cell_type": "code",
     "collapsed": false,
     "input": [
      "atoms.dist(atoms.Al1, atoms.O1)"
     ],
     "language": "python",
     "metadata": {},
     "outputs": [
      {
       "metadata": {},
       "output_type": "pyout",
       "prompt_number": 3,
       "text": [
        "1.7623362335263948"
       ]
      }
     ],
     "prompt_number": 3
    },
    {
     "cell_type": "markdown",
     "metadata": {},
     "source": [
      "We might then calculate the distance between Al1 and the Si1 atom bonded to the bridging O1 atom."
     ]
    },
    {
     "cell_type": "code",
     "collapsed": false,
     "input": [
      "atoms.dist(atoms.Al1, atoms.Si1)"
     ],
     "language": "python",
     "metadata": {},
     "outputs": [
      {
       "metadata": {},
       "output_type": "pyout",
       "prompt_number": 4,
       "text": [
        "2.9562849997928144"
       ]
      }
     ],
     "prompt_number": 4
    },
    {
     "cell_type": "markdown",
     "metadata": {},
     "source": [
      "Let's loop over the first two aluminium atoms (for sake of space) and print out the Al-O bond length."
     ]
    },
    {
     "cell_type": "code",
     "collapsed": false,
     "input": [
      "for atom_Al in atoms.species('Al')[:2]:\n",
      "    for atom_O in atoms.species('O').within(atom_Al, 3.0):\n",
      "        print atom_Al, atom_O, atoms.dist(atom_Al, atom_O)"
     ],
     "language": "python",
     "metadata": {},
     "outputs": [
      {
       "output_type": "stream",
       "stream": "stdout",
       "text": [
        "27Al1 17O1 1.76233623353\n",
        "27Al1 17O18 1.75419940144\n",
        "27Al1 17O31 1.76324628229\n",
        "27Al1 17O44 1.75655859851\n",
        "27Al2"
       ]
      },
      {
       "output_type": "stream",
       "stream": "stdout",
       "text": [
        " 17O5 1.75237010931\n",
        "27Al2 17O6 1.72876661236\n",
        "27Al2 17O7 1.77878020002\n",
        "27Al2 17O8 1.76119987509\n"
       ]
      }
     ],
     "prompt_number": 5
    },
    {
     "cell_type": "markdown",
     "metadata": {},
     "source": [
      "We could take a mean to find out the average Al-O bond length, with a standard deviation."
     ]
    },
    {
     "cell_type": "code",
     "collapsed": false,
     "input": [
      "dists = []\n",
      "\n",
      "for atom_Al in atoms.species('Al'):\n",
      "    for atom_O in atoms.species('O').within(atom_Al, 3.0):\n",
      "        dists.append(atoms.dist(atom_Al, atom_O))\n",
      "        \n",
      "print \"Mean bond length =\", mean(dists), \"+-\", std(dists)"
     ],
     "language": "python",
     "metadata": {},
     "outputs": [
      {
       "output_type": "stream",
       "stream": "stdout",
       "text": [
        "Mean bond length = 1.75230470421 +- 0.0209888992786\n"
       ]
      }
     ],
     "prompt_number": 6
    },
    {
     "cell_type": "markdown",
     "metadata": {},
     "source": [
      "And we could even plot a histogram of the Al-O bond length distribution."
     ]
    },
    {
     "cell_type": "code",
     "collapsed": false,
     "input": [
      "hist(dists, bins=20)"
     ],
     "language": "python",
     "metadata": {},
     "outputs": [
      {
       "metadata": {},
       "output_type": "pyout",
       "prompt_number": 7,
       "text": [
        "(array([ 4,  2,  4, 10, 12, 12, 20, 16, 11, 15, 12, 23, 12, 14, 11,  3,  3,\n",
        "         2,  3,  3]),\n",
        " array([ 1.70591764,  1.71088507,  1.7158525 ,  1.72081992,  1.72578735,\n",
        "         1.73075478,  1.7357222 ,  1.74068963,  1.74565706,  1.75062449,\n",
        "         1.75559191,  1.76055934,  1.76552677,  1.7704942 ,  1.77546162,\n",
        "         1.78042905,  1.78539648,  1.7903639 ,  1.79533133,  1.80029876,\n",
        "         1.80526619]),\n",
        " <a list of 20 Patch objects>)"
       ]
      }
     ],
     "prompt_number": 7
    },
    {
     "cell_type": "markdown",
     "metadata": {},
     "source": [
      "Bond angles\n",
      "-----------"
     ]
    },
    {
     "cell_type": "markdown",
     "metadata": {},
     "source": [
      "We can use the angle function to calculate the X-Y-Z bond angle of three atoms, X, Y and Z. For example, the Al1-O1-S1 bond angle is"
     ]
    },
    {
     "cell_type": "code",
     "collapsed": false,
     "input": [
      "atoms.angle(atoms.Al1, atoms.O1, atoms.Si1)"
     ],
     "language": "python",
     "metadata": {},
     "outputs": [
      {
       "metadata": {},
       "output_type": "pyout",
       "prompt_number": 8,
       "text": [
        "2.1049612709736554"
       ]
      }
     ],
     "prompt_number": 8
    },
    {
     "cell_type": "markdown",
     "metadata": {},
     "source": [
      "That's in radians. If we want it in degrees, we can either do the maths or specify the degrees option."
     ]
    },
    {
     "cell_type": "code",
     "collapsed": false,
     "input": [
      "atoms.angle(atoms.Al1, atoms.O1, atoms.Si1, degrees=True)"
     ],
     "language": "python",
     "metadata": {},
     "outputs": [
      {
       "metadata": {},
       "output_type": "pyout",
       "prompt_number": 9,
       "text": [
        "120.60539686528409"
       ]
      }
     ],
     "prompt_number": 9
    },
    {
     "cell_type": "markdown",
     "metadata": {},
     "source": [
      "We could do a similar thing as we did with bond lengths to look at the Al-O-X bond angle distribution, where X is any second nearest neighbour."
     ]
    },
    {
     "cell_type": "code",
     "collapsed": false,
     "input": [
      "angles = []\n",
      "\n",
      "# Loop over every aluminium atom\n",
      "for atom_Al in atoms.species('Al'):\n",
      "    \n",
      "    # Find all oxygens within 2.0 A of the Al atom, i.e. ones bonded\n",
      "    for atom_O in atoms.species('O').within(atom_Al, 2.0):\n",
      "        \n",
      "        # Find all Si and Al within 2.0 of the bonded oxygen\n",
      "        for atom_X in atoms.species('Si', 'Al').within(atom_O, 2.0):\n",
      "            \n",
      "            # Check that we haven't found the original Al atom! Otherwise angle will equal zero\n",
      "            if atom_Al != atom_X:\n",
      "                angle = atoms.angle(atom_Al, atom_O, atom_X, degrees=True)\n",
      "                \n",
      "                # Append it to our list\n",
      "                angles.append(angle)\n",
      "        \n",
      "print \"Mean bond angle =\", mean(angles), \"+-\", std(angles)"
     ],
     "language": "python",
     "metadata": {},
     "outputs": [
      {
       "output_type": "stream",
       "stream": "stdout",
       "text": [
        "Mean bond angle = 119.244646177 +- 5.4306395789\n"
       ]
      }
     ],
     "prompt_number": 10
    },
    {
     "cell_type": "markdown",
     "metadata": {},
     "source": [
      "Plotting this distribution as a histogram we can see that there are two populations of bond angles, corresponding to the T1 (four-coordinated) and T2 (three-coordinated) sites."
     ]
    },
    {
     "cell_type": "code",
     "collapsed": false,
     "input": [
      "hist(angles, bins=20)"
     ],
     "language": "python",
     "metadata": {},
     "outputs": [
      {
       "metadata": {},
       "output_type": "pyout",
       "prompt_number": 11,
       "text": [
        "(array([ 6, 20, 22, 26, 16, 16,  8, 13, 14,  3,  0,  0,  0,  6,  4,  4,  3,\n",
        "         1,  4,  2]),\n",
        " array([ 112.17244747,  113.33907751,  114.50570755,  115.67233759,\n",
        "         116.83896763,  118.00559767,  119.17222771,  120.33885775,\n",
        "         121.5054878 ,  122.67211784,  123.83874788,  125.00537792,\n",
        "         126.17200796,  127.338638  ,  128.50526804,  129.67189808,\n",
        "         130.83852812,  132.00515816,  133.1717882 ,  134.33841824,\n",
        "         135.50504828]),\n",
        " <a list of 20 Patch objects>)"
       ]
      }
     ],
     "prompt_number": 11
    }
   ],
   "metadata": {}
  }
 ]
}